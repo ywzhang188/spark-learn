{
 "cells": [
  {
   "cell_type": "code",
   "execution_count": 1,
   "metadata": {},
   "outputs": [],
   "source": [
    "import os \n",
    "from pyspark.sql import SparkSession, Window\n",
    "from pyspark.sql.functions import *\n",
    "from pyspark.sql.types import *\n",
    "from pyspark.ml.feature import Word2Vec, Word2VecModel, BucketedRandomProjectionLSH, BucketedRandomProjectionLSHModel\n",
    "import jieba\n",
    "import re \n",
    "import pandas as pd"
   ]
  },
  {
   "cell_type": "code",
   "execution_count": 2,
   "metadata": {},
   "outputs": [
    {
     "name": "stderr",
     "output_type": "stream",
     "text": [
      "Building prefix dict from /media/cfs/zhangyuwei37/.pylib/lib/python3.6/site-packages/jieba/dict.txt ...\n",
      "Loading model from cache /tmp/jieba.cache\n",
      "Loading model cost 1.161816120147705 seconds.\n",
      "Prefix dict has been built succesfully.\n"
     ]
    }
   ],
   "source": [
    "jieba.initialize()\n",
    "spark = (SparkSession\n",
    "         .builder\n",
    "         .appName(\"test-dockerlinuxcontainer\")\n",
    "         .enableHiveSupport()\n",
    "         .config(\"spark.executor.instances\", \"50\")\n",
    "         .config(\"spark.executor.memory\",\"48g\")\n",
    "         .config(\"spark.executor.cores\",\"24\")\n",
    "         .config(\"spark.driver.memory\",\"48g\")\n",
    "         .config(\"spark.sql.shuffle.partitions\",\"500\")\n",
    "         .config(\"spark.yarn.appMasterEnv.yarn.nodemanager.container-executor.class\",\"DockerLinuxContainer\")\n",
    "         .config(\"spark.executorEnv.yarn.nodemanager.container-executor.class\",\"DockerLinuxContainer\")\n",
    "         .config(\"spark.yarn.appMasterEnv.yarn.nodemanager.docker-container-executor.image-name\",\"bdp-docker.jd.com:5000/wise_mart_bag:latest\")\n",
    "         .config(\"spark.executorEnv.yarn.nodemanager.docker-container-executor.image-name\",\"bdp-docker.jd.com:5000/wise_mart_bag:latest\")\n",
    "         .getOrCreate())"
   ]
  },
  {
   "cell_type": "code",
   "execution_count": 5,
   "metadata": {},
   "outputs": [],
   "source": [
    "\"\"\"\n",
    "说明：word2vec训练词向量，进而得到评论向量，然后LSH快速求评论向量近邻。\n",
    "参考：\n",
    "https://blog.csdn.net/weixin_43250857/article/details/107468470\n",
    "https://blog.csdn.net/u013090676/article/details/82716911\n",
    "https://spark.apache.org/docs/latest/api/python/pyspark.ml.html?highlight=word2vec#pyspark.ml.feature.Word2VecModel\n",
    "\"\"\"\n",
    "\n",
    "df = pd.read_csv('./DMSC.csv')\n"
   ]
  },
  {
   "cell_type": "code",
   "execution_count": 6,
   "metadata": {},
   "outputs": [
    {
     "data": {
      "text/plain": [
       "ID                int64\n",
       "Movie_Name_EN    object\n",
       "Movie_Name_CN    object\n",
       "Crawl_Date       object\n",
       "Number            int64\n",
       "Username         object\n",
       "Date             object\n",
       "Star              int64\n",
       "Comment          object\n",
       "Like              int64\n",
       "dtype: object"
      ]
     },
     "execution_count": 6,
     "metadata": {},
     "output_type": "execute_result"
    }
   ],
   "source": [
    "df.dtypes"
   ]
  },
  {
   "cell_type": "code",
   "execution_count": 7,
   "metadata": {},
   "outputs": [],
   "source": [
    "df_schema = StructType([StructField(\"ID\", StringType(), True)\\\n",
    "                       ,StructField(\"Movie_Name_EN\", StringType(), True)\n",
    "                       ,StructField(\"Movie_Name_CN\", StringType(), True)\n",
    "                       ,StructField(\"Crawl_Date\", StringType(), True)\n",
    "                       ,StructField(\"Number\", IntegerType(), True)\n",
    "                       ,StructField(\"Username\", StringType(), True)\n",
    "                       ,StructField(\"Date\", StringType(), True)\n",
    "                       ,StructField(\"Star\", IntegerType(), True)\n",
    "                       ,StructField(\"Comment\", StringType(), True)\n",
    "                       ,StructField(\"Like\", IntegerType(), True)])\n",
    " \n",
    "df = spark.createDataFrame(df, schema=df_schema)"
   ]
  },
  {
   "cell_type": "code",
   "execution_count": 8,
   "metadata": {},
   "outputs": [
    {
     "data": {
      "text/plain": [
       "[('ID', 'string'),\n",
       " ('Movie_Name_EN', 'string'),\n",
       " ('Movie_Name_CN', 'string'),\n",
       " ('Crawl_Date', 'string'),\n",
       " ('Number', 'int'),\n",
       " ('Username', 'string'),\n",
       " ('Date', 'string'),\n",
       " ('Star', 'int'),\n",
       " ('Comment', 'string'),\n",
       " ('Like', 'int')]"
      ]
     },
     "execution_count": 8,
     "metadata": {},
     "output_type": "execute_result"
    }
   ],
   "source": [
    "df.dtypes"
   ]
  },
  {
   "cell_type": "code",
   "execution_count": 9,
   "metadata": {},
   "outputs": [],
   "source": [
    "def jieba_f(line):\n",
    "    \"\"\"\n",
    "    分词（将字符串拆分），变成字符串数组\n",
    "    \"\"\"\n",
    "    remove_chars_pattern = re.compile('[·’!\"#$%&\\'()＃！（）*+,-./:;<=>?@，：?★、…．＞【】［］《》？“”‘’[\\\\]^_`{|}~]+')\n",
    "    try:\n",
    "        words = [remove_chars_pattern.sub('', word) for word in jieba.lcut(line, cut_all=False)]\n",
    "        return words\n",
    "    except:\n",
    "        return []\n",
    "jieba_udf = udf(jieba_f, ArrayType(StringType()))\n",
    "df = df.withColumn('Words', jieba_udf(col('Comment')))"
   ]
  },
  {
   "cell_type": "code",
   "execution_count": 10,
   "metadata": {},
   "outputs": [
    {
     "name": "stdout",
     "output_type": "stream",
     "text": [
      "+---+--------------------+-------------+----------+------+----------------+----------+----+------------------------------------+----+----------------------------+\n",
      "| ID|       Movie_Name_EN|Movie_Name_CN|Crawl_Date|Number|        Username|      Date|Star|                             Comment|Like|                       Words|\n",
      "+---+--------------------+-------------+----------+------+----------------+----------+----+------------------------------------+----+----------------------------+\n",
      "|  0|Avengers Age of U...|  复仇者联盟2|2017-01-22|     1|            然潘|2015-05-13|   3|          连奥创都知道整容要去韩国。|2404|  [ , 连, 奥创, 都, 知道,...|\n",
      "|  1|Avengers Age of U...|  复仇者联盟2|2017-01-22|     2|      更深的白色|2015-04-24|   2| 非常失望，剧本完全敷衍了事，主线...|1231|  [ , 非常, 失望, , 剧本,...|\n",
      "|  2|Avengers Age of U...|  复仇者联盟2|2017-01-22|     3|    有意识的贱民|2015-04-26|   2|     2015年度最失望作品。以为面面...|1052|     [ , 2015, 年度, 最, ...|\n",
      "|  3|Avengers Age of U...|  复仇者联盟2|2017-01-22|     4|  不老的李大爷耶|2015-04-23|   4|   《铁人2》中勾引钢铁侠，《妇联1...|1045|     [ , , 铁人, 2, , 中,...|\n",
      "|  4|Avengers Age of U...|  复仇者联盟2|2017-01-22|     5|         ZephyrO|2015-04-22|   2|  虽然从头打到尾，但是真的很无聊啊。| 723| [ , 虽然, 从头, 打到, 尾...|\n",
      "|  5|Avengers Age of U...|  复仇者联盟2|2017-01-22|     6|同志亦凡人中文站|2015-04-22|   3| 剧情不如第一集好玩了，全靠密集笑...| 671| [ , 剧情, 不如, 第一集, ...|\n",
      "|  6|Avengers Age of U...|  复仇者联盟2|2017-01-22|     7|           Danny|2015-04-23|   2| 只有一颗彩蛋必须降一星。外加漫威...| 641| [ , 只有, 一颗, 彩蛋, 必...|\n",
      "|  7|Avengers Age of U...|  复仇者联盟2|2017-01-22|     8|           gYroS|2015-04-28|   2|            看腻了这些打来打去的烂片| 576| [ , 看腻, 了, 这些, 打来...|\n",
      "|  8|Avengers Age of U...|  复仇者联盟2|2017-01-22|     9|          tidd熊|2015-04-23|   3| 漫威粉勿喷，真感觉比第一部差了些...| 481|   [ , 漫威粉, 勿, 喷, , ...|\n",
      "|  9|Avengers Age of U...|  复仇者联盟2|2017-01-22|    10|      桃桃淘电影|2015-05-12|   3| 属于超级英雄的春晚，角色如走马灯...| 443| [ , 属于, 超级, 英雄, 的...|\n",
      "| 10|Avengers Age of U...|  复仇者联盟2|2017-01-22|    11|            影志|2015-04-30|   4|  “一个没有黑暗面的人不值得信任。...| 381| [ , , 一个, 没有, 黑暗面...|\n",
      "| 11|Avengers Age of U...|  复仇者联盟2|2017-01-22|    12|            玖萬|2015-05-12|   2| 请漫威华丽地滚出电影界！每年都炮...| 275|[ , 请漫威, 华丽, 地滚出,...|\n",
      "| 12|Avengers Age of U...|  复仇者联盟2|2017-01-22|    13|        亵渎电影|2015-05-12|   2| 承认这货很烂很难吗？混乱的节奏，...| 231| [ , 承认, 这货, 很烂, 很...|\n",
      "| 13|Avengers Age of U...|  复仇者联盟2|2017-01-22|    14|      陀螺凡达可|2015-04-22|   3| 跟第一部很不一样，叙事加强了不少...| 228|  [ , 跟, 第一部, 很, 不,...|\n",
      "| 14|Avengers Age of U...|  复仇者联盟2|2017-01-22|    15|      别惹小白兔|2015-04-27|   3| 漫威第二阶最中庸的一集。承上启下...| 270|  [ , 漫威, 第二, 阶, 最,...|\n",
      "| 15|Avengers Age of U...|  复仇者联盟2|2017-01-22|    16|          高压电|2015-05-08|   1| 什么破烂反派，毫无戏剧冲突能消耗...| 158|  [ , 什么, 破烂, 反派, ,...|\n",
      "| 16|Avengers Age of U...|  复仇者联盟2|2017-01-22|    17|      牛腩羊耳朵|2015-04-22|   4| 总体来说没有达到第一部想让人立马...| 165| [ , 总体, 来说, 没有, 达...|\n",
      "| 17|Avengers Age of U...|  复仇者联盟2|2017-01-22|    18|          文文周|2015-04-24|   5| 机甲之战超超好看，比变形金刚强；...| 182| [ , 机甲, 之战, 超超, 好...|\n",
      "| 18|Avengers Age of U...|  复仇者联盟2|2017-01-22|    19|          抽先桑|2015-04-29|   2|  结局就差寡姐握着绿巨人的手说：”...| 153|  [ , 结局, 就, 差, 寡姐,...|\n",
      "| 19|Avengers Age of U...|  复仇者联盟2|2017-01-22|    20|      时间的玫瑰|2015-04-23|   4|      全程挥之不去美队的胸和banne...| 144|[ , 全程, 挥之不去, 美队,...|\n",
      "+---+--------------------+-------------+----------+------+----------------+----------+----+------------------------------------+----+----------------------------+\n",
      "only showing top 20 rows\n",
      "\n"
     ]
    }
   ],
   "source": [
    "df.show()"
   ]
  },
  {
   "cell_type": "code",
   "execution_count": 11,
   "metadata": {},
   "outputs": [],
   "source": [
    "def train_word2vec(df, model_path='./word2vec_model'):\n",
    "    \"\"\"\n",
    "    word2vec训练词向量(输入：Words词序列，输出：embedding词嵌入向量)\n",
    "    \"\"\"\n",
    "    word2vec = Word2Vec(vectorSize=20, numPartitions=4, maxIter=3, seed=33, inputCol='Words', outputCol='Embedding')\n",
    "    try:\n",
    "        word2vec_model = Word2VecModel.load(model_path)\n",
    "    except:\n",
    "        word2vec_model = word2vec.fit(df)\n",
    "        word2vec_model.save(model_path)\n",
    "    return word2vec_model\n",
    "word2vec_model = train_word2vec(df)\n",
    "# 使用词embedding的平均得到评论embedding\n",
    "df = word2vec_model.transform(df)"
   ]
  },
  {
   "cell_type": "code",
   "execution_count": 16,
   "metadata": {},
   "outputs": [],
   "source": [
    "def train_lsh(df, model_path = './lsh_model'):\n",
    "    \"\"\"\n",
    "    # 训练LSH实现评论embedding快速近邻向量检索\n",
    "    \"\"\"\n",
    "    lsh = BucketedRandomProjectionLSH(inputCol='Embedding', outputCol='Buckets', numHashTables=2, bucketLength=0.1)\n",
    "    try:\n",
    "        lsh_model = BucketedRandomProjectionLSHModel.load(model_path)\n",
    "    except:\n",
    "        lsh_model = lsh.fit(df)\n",
    "        lsh_model.save(model_path)\n",
    "    return lsh_model\n",
    "lsh_model = train_lsh(df)\n",
    "# 评论向量embedding计算分桶\n",
    "df = lsh_model.transform(df)"
   ]
  },
  {
   "cell_type": "code",
   "execution_count": 18,
   "metadata": {},
   "outputs": [
    {
     "name": "stdout",
     "output_type": "stream",
     "text": [
      "+----------------------------+--------------------+----------------+\n",
      "|                       Words|           Embedding|         Buckets|\n",
      "+----------------------------+--------------------+----------------+\n",
      "|  [ , 连, 奥创, 都, 知道,...|[-0.1797905573621...|  [[1.0], [2.0]]|\n",
      "|  [ , 非常, 失望, , 剧本,...|[-0.1429192681069...|[[-1.0], [-1.0]]|\n",
      "|     [ , 2015, 年度, 最, ...|[-0.0452436775913...|[[-1.0], [-1.0]]|\n",
      "|     [ , , 铁人, 2, , 中,...|[-0.0900899582276...|  [[0.0], [0.0]]|\n",
      "| [ , 虽然, 从头, 打到, 尾...|[0.15214901122575...| [[-3.0], [2.0]]|\n",
      "| [ , 剧情, 不如, 第一集, ...|[-0.1095046793364...| [[-1.0], [0.0]]|\n",
      "| [ , 只有, 一颗, 彩蛋, 必...|[-0.1215881768105...|[[-1.0], [-1.0]]|\n",
      "| [ , 看腻, 了, 这些, 打来...|[-0.1153682228177...|  [[0.0], [0.0]]|\n",
      "|   [ , 漫威粉, 勿, 喷, , ...|[-0.1377823332038...| [[-1.0], [1.0]]|\n",
      "| [ , 属于, 超级, 英雄, 的...|[-0.0585340855664...| [[-1.0], [0.0]]|\n",
      "| [ , , 一个, 没有, 黑暗面...|[-0.0583722080308...|[[-1.0], [-1.0]]|\n",
      "|[ , 请漫威, 华丽, 地滚出,...|[-0.1466444059716...| [[1.0], [-2.0]]|\n",
      "| [ , 承认, 这货, 很烂, 很...|[-0.1318089532001...| [[-1.0], [0.0]]|\n",
      "|  [ , 跟, 第一部, 很, 不,...|[-0.0964901733570...|[[-2.0], [-1.0]]|\n",
      "|  [ , 漫威, 第二, 阶, 最,...|[-0.0603854693603...|[[-1.0], [-1.0]]|\n",
      "|  [ , 什么, 破烂, 反派, ,...|[-0.1647626911289...|  [[0.0], [0.0]]|\n",
      "| [ , 总体, 来说, 没有, 达...|[-0.0490298579301...| [[-1.0], [0.0]]|\n",
      "| [ , 机甲, 之战, 超超, 好...|[-0.0892050423561...| [[0.0], [-1.0]]|\n",
      "|  [ , 结局, 就, 差, 寡姐,...|[-0.0292839890434...|[[-1.0], [-1.0]]|\n",
      "|[ , 全程, 挥之不去, 美队,...|[-0.0790886134820...| [[-1.0], [0.0]]|\n",
      "+----------------------------+--------------------+----------------+\n",
      "only showing top 20 rows\n",
      "\n"
     ]
    }
   ],
   "source": [
    "df.select(\"Words\", \"Embedding\", \"Buckets\").show()"
   ]
  },
  {
   "cell_type": "code",
   "execution_count": 21,
   "metadata": {},
   "outputs": [],
   "source": [
    "# 求每个评论的embedding近邻\n",
    "# 下面将计算并找出与每条评论距离在0.5之内的其他评论，即1条评论对应N行（也可能完美没有满足相似阈值的评论）\n",
    "comment_distance = lsh_model.approxSimilarityJoin(df, df, 0.5, 'Distance').select(\n",
    "    col('datasetA.ID').alias('ID1'), col('datasetA.Movie_Name_CN').alias('Movie_Name_CN1'), col('datasetA.Comment').alias('Comment1'),\n",
    "    col('datasetB.ID').alias('ID2'), col('datasetB.Movie_Name_CN').alias('Movie_Name_CN2'), col('datasetB.Comment').alias('Comment2'),\n",
    "    'Distance'\n",
    ").filter('datasetA.ID!=datasetB.ID')"
   ]
  },
  {
   "cell_type": "code",
   "execution_count": 23,
   "metadata": {},
   "outputs": [
    {
     "name": "stdout",
     "output_type": "stream",
     "text": [
      "+-------+--------------+----------------------------+-------+--------------+--------------------------------------+-------------------+\n",
      "|    ID1|Movie_Name_CN1|                    Comment1|    ID2|Movie_Name_CN2|                              Comment2|           Distance|\n",
      "+-------+--------------+----------------------------+-------+--------------+--------------------------------------+-------------------+\n",
      "|1328138|        寻龙诀| 能匹配的上初中对文字的迷恋 | 613149|    西游降魔篇|   那么多层次包在一起，得花多大的心...| 0.4264067964674386|\n",
      "|1328138|        寻龙诀| 能匹配的上初中对文字的迷恋 | 618841|    西游降魔篇|   一生所爱的旋律一想起来就让人动情...|0.40728640510643804|\n",
      "|1328138|        寻龙诀| 能匹配的上初中对文字的迷恋 | 657580|    西游降魔篇|   我是先看降魔再看大话的，说实话，...|0.38695478157665064|\n",
      "|1328138|        寻龙诀| 能匹配的上初中对文字的迷恋 | 660416|    西游降魔篇|   估计星爷觉得西游降魔在爱情方面很...| 0.4373297648012288|\n",
      "|1328138|        寻龙诀| 能匹配的上初中对文字的迷恋 | 854203|      爱乐之城|   人生处处可歌舞，用音乐和舞蹈表达...|0.45061194795632464|\n",
      "|1328138|        寻龙诀| 能匹配的上初中对文字的迷恋 | 697071|    西游伏妖篇|   求星爷不要在拍西游了，让那个经典...| 0.4967218204391275|\n",
      "|1328138|        寻龙诀| 能匹配的上初中对文字的迷恋 | 867111|          泰囧|   这是一部赤裸裸的黑马，在对的时间...| 0.4249495446980766|\n",
      "|1328138|        寻龙诀| 能匹配的上初中对文字的迷恋 |1247424|      后会无期|   韩寒的铁粉一枚。。看电影的时候一...| 0.3777440877040957|\n",
      "|1328138|        寻龙诀| 能匹配的上初中对文字的迷恋 |1251924|      后会无期|   典型的韩少风格。一个人能把自己写...|0.33680636263007924|\n",
      "|1328138|        寻龙诀| 能匹配的上初中对文字的迷恋 |1258322|      后会无期|   相信欺骗者的江河最后事业爱情双丰...| 0.4669317415480042|\n",
      "|1328138|        寻龙诀| 能匹配的上初中对文字的迷恋 |1263143|      后会无期|    就电影本身而言 很用心的一部片子...| 0.4587154857566196|\n",
      "|1328138|        寻龙诀| 能匹配的上初中对文字的迷恋 |1264732|      后会无期|                        看的是一种情怀|  0.408918002697377|\n",
      "|1328138|        寻龙诀| 能匹配的上初中对文字的迷恋 |1273810|        寻龙诀| 让我想起了早期的冒险电影 这个是良心剧| 0.4514431773802018|\n",
      "|1328138|        寻龙诀| 能匹配的上初中对文字的迷恋 |1282361|        寻龙诀|   书迷最开心的事，就是看书里的人物...|0.34593857457987176|\n",
      "|1328138|        寻龙诀| 能匹配的上初中对文字的迷恋 |1155383|      后会无期|   和独唱团给人的感觉惊人的一致，韩...| 0.3936709814161881|\n",
      "|1328138|        寻龙诀| 能匹配的上初中对文字的迷恋 | 214941|      十二生肖|   始终很拼，众人捧场。可惜十二生肖...| 0.4635469220462574|\n",
      "|1328138|        寻龙诀| 能匹配的上初中对文字的迷恋 | 220828|      十二生肖|   一个民族的强大不是去收复已逝的宝...|0.47024873329782474|\n",
      "|1328138|        寻龙诀| 能匹配的上初中对文字的迷恋 |1964502|      你的名字|        巨作，要用大荧幕观看，温暖内心| 0.4536179621410544|\n",
      "|1328138|        寻龙诀| 能匹配的上初中对文字的迷恋 |1967657|      你的名字|   细腻，温柔，轻松和泪水，从纷繁复...|0.42652083407397434|\n",
      "|1328138|        寻龙诀| 能匹配的上初中对文字的迷恋 |1979964|      你的名字|   之前看到新海诚的动漫都没有这次的...|0.43469432851719597|\n",
      "+-------+--------------+----------------------------+-------+--------------+--------------------------------------+-------------------+\n",
      "only showing top 20 rows\n",
      "\n"
     ]
    }
   ],
   "source": [
    "comment_distance.show()"
   ]
  },
  {
   "cell_type": "code",
   "execution_count": 24,
   "metadata": {},
   "outputs": [
    {
     "name": "stdout",
     "output_type": "stream",
     "text": [
      "+-------+-------------+---------------------------------------------------------------------------------------------------+---------------------------+-----------------------------------+-----------------------------------------------------------------------------------------------------------------------------------------------------------+\n",
      "|ID     |Movie_Name_CN|Comment                                                                                            |Similar_IDs                |Similar_Movie_Name_CNs             |Similar_Comments                                                                                                                                           |\n",
      "+-------+-------------+---------------------------------------------------------------------------------------------------+---------------------------+-----------------------------------+-----------------------------------------------------------------------------------------------------------------------------------------------------------+\n",
      "|1002782|湄公河行动   | 彭于晏好帅                                                                                        |[998046, 987990, 1002983]  |[湄公河行动]                       |[ 彭于晏好帅]                                                                                                                                              |\n",
      "|1142513|复仇者联盟   | 这才叫大片                                                                                        |[181115]                   |[美国队长3]                        |[ 正宗的美国大片]                                                                                                                                          |\n",
      "|1160428|后会无期     | 不错从头笑到尾                                                                                    |[914164, 1992326, 858327]  |[疯狂动物城, 泰囧]                 |[ 耶从头笑到尾,  从头笑到尾啊,  真心从头笑到尾]                                                                                                            |\n",
      "|1173431|后会无期     | 看了三遍                                                                                          |[509393, 2103088, 2029210] |[疯狂动物城, 夏洛特烦恼]           |[ 看了三遍]                                                                                                                                                |\n",
      "|1174282|后会无期     | 烂尾？                                                                                            |[1342924, 252848, 606158]  |[寻龙诀, 九层妖塔, 西游降魔篇]     |[ 烂尾！,  烂尾…]                                                                                                                                          |\n",
      "|1175202|后会无期     | 内地                                                                                              |[1335286, 319236, 904686]  |[大圣归来, 寻龙诀, 泰囧]           |[ 内地]                                                                                                                                                    |\n",
      "|1177430|后会无期     | 有点生硬，3半吧                                                                                   |[991846, 988833, 947184]   |[何以笙箫默, 湄公河行动]           |[ 三星半，故事有点乱哇,  两心半，文戏太弱,  太混乱 。两分半]                                                                                               |\n",
      "|1181914|后会无期     | 叙事平淡松散，一般般                                                                              |[1206383, 1235932, 11920]  |[后会无期, 复仇者联盟2]            |[ 感觉剧情有点松散,  剧情有点松散..,  剧情有些平淡]                                                                                                        |\n",
      "|119972 |大鱼海棠     | (((o(*ﾟ▽ﾟ*)o)))                                                                                   |[623987, 2073663, 898321]  |[疯狂动物城, 泰囧, 西游降魔篇]     |[ 老稀罕徐峥了o(*￣▽￣*)ゞ,  ……o((≧▽≦o) 太好笑了！！,  (〃'▽'〃) ]                                                                                         |\n",
      "|1228461|后会无期     | 最后那首平凡之路听震撼的                                                                          |[517690, 1249022, 1174030] |[后会无期, 夏洛特烦恼]             |[ 朴树的歌更好听。,  当朴树、许巍的歌响起时，还是感动了~~,  只记得女儿情和平凡之路很好听]                                                                  |\n",
      "|1233075|后会无期     | 想不起来了，好像总是这样，电影结束了，我就只能记得脸╮(￣▽￣)╭这次的排行是，袁泉，袁泉，王珞丹(≧▽≦)|[667747, 17685, 370989]    |[大圣归来, 复仇者联盟2, 西游降魔篇]|[ 赞美的话就不说了。童自荣老师！~\\(≧▽≦)/~,  前中都很好,╮(╯▽╰)╭ 结尾哎,能不能给力点 你就完美了,  周围坐满高中小男生还听他们逗比吐槽也满好的。。。╮(￣▽￣\")╭]|\n",
      "|1234642|后会无期     | 结尾太仓促                                                                                        |[316075, 344379, 1222580]  |[大圣归来, 后会无期]               |[ 结尾太仓促]                                                                                                                                              |\n",
      "|1240309|后会无期     | 竟然看了两遍。。。                                                                                |[215000, 923736, 617681]   |[十二生肖, 泰囧, 西游降魔篇]       |[ 我竟然看了两遍。。。,  竟然还看了两遍。。。,  竟然看了两遍。。。]                                                                                        |\n",
      "|1268932|后会无期     | 韩寒一贯的风格，微搞笑，偏嘲讽，重文艺，值得一看                                                  |[1187072, 1239522, 894346] |[后会无期, 泰囧]                   |[ 经典的台词经典的结局。文艺范，韩寒风格。,  公路，黑色，幽默，文艺，剧情，纪实，一如既往的韩寒式喜剧。,  作为中国式的喜剧，情景喜剧而已，带点励志成份。]  |\n",
      "|1293852|寻龙诀       | 意犹未尽！                                                                                        |[1668727, 1232949, 1108328]|[后会无期, 复仇者联盟, 小时代1]    |[ 意犹未尽~]                                                                                                                                               |\n",
      "|1305253|寻龙诀       | 特效国产巅峰                                                                                      |[306598, 77325, 392630]    |[大鱼海棠, 大圣归来]               |[ 毋庸置疑，国产良心,  国产良心作品~,  国产巅峰自不必说]                                                                                                   |\n",
      "|1306571|寻龙诀       | 没看完                                                                                            |[953977, 1164904, 1680690] |[小时代3, 后会无期, 何以笙箫默]    |[ 没看完]                                                                                                                                                  |\n",
      "|1307325|寻龙诀       | 国产冒险电影巅峰。                                                                                |[478427, 1455968, 1298116] |[长城, 寻龙诀, 夏洛特烦恼]         |[ 近些年国产娱乐片的顶峰,  难得的国产奇幻大片！,  国产喜剧新标杆。]                                                                                        |\n",
      "|1323759|寻龙诀       | 比九层妖塔好很多了                                                                                |[1379001, 1300545, 1282602]|[寻龙诀]                           |[ 比九层妖塔好很多了,  比九层妖塔好很多。]                                                                                                                 |\n",
      "|1375863|寻龙诀       | 绝对国产第一盗墓电影                                                                              |[1353534, 1351426, 1278922]|[寻龙诀]                           |[ 国产盗墓类电影算得上是精品！,  国内盗墓片目前最佳了吧,  国产盗墓电影的开端]                                                                              |\n",
      "+-------+-------------+---------------------------------------------------------------------------------------------------+---------------------------+-----------------------------------+-----------------------------------------------------------------------------------------------------------------------------------------------------------+\n",
      "only showing top 20 rows\n",
      "\n"
     ]
    }
   ],
   "source": [
    "# 为每个评论保留top 3相似的评论\n",
    "comment_distance.createOrReplaceTempView('comment_distance')\n",
    "sql = '''\n",
    "-- 保留每个评论的top 3相似评论\n",
    "WITH \n",
    "    comment_with_rank AS \n",
    "    (\n",
    "        select \n",
    "            *,\n",
    "            row_number() over (partition by ID1 order by Distance asc) Ranking\n",
    "        from \n",
    "            comment_distance\n",
    "    ),\n",
    "-- 每个评论留1条详情\n",
    "    comment_info AS \n",
    "    (\n",
    "        select\n",
    "            * \n",
    "        from \n",
    "            comment_with_rank\n",
    "        where \n",
    "            Ranking=1\n",
    "    ),\n",
    "-- 每条评论top3拉平为列\n",
    "    comment_with_top3 AS \n",
    "    (\n",
    "        select \n",
    "            ID1,\n",
    "            collect_set(ID2) Similar_IDs,\n",
    "            collect_set(Movie_Name_CN2) Similar_Movie_Name_CNs,\n",
    "            collect_set(Comment2) Similar_Comments\n",
    "        from \n",
    "            comment_with_rank\n",
    "        where \n",
    "            Ranking <= 3\n",
    "        group by \n",
    "            ID1\n",
    "    )\n",
    "-- 输出结果\n",
    "select\n",
    "    a.ID1 ID,\n",
    "    b.Movie_Name_CN1 Movie_Name_CN,\n",
    "    b.Comment1 Comment,\n",
    "    a.Similar_IDs,\n",
    "    a.Similar_Movie_Name_CNs,\n",
    "    a.Similar_Comments\n",
    "from \n",
    "    comment_with_top3 a\n",
    "left join \n",
    "    comment_info b\n",
    "on \n",
    "    a.ID1=b.ID1\n",
    "'''\n",
    "similar_comment = spark.sql(sql)\n",
    "similar_comment.show(truncate=False)"
   ]
  },
  {
   "cell_type": "code",
   "execution_count": null,
   "metadata": {},
   "outputs": [],
   "source": []
  }
 ],
 "metadata": {
  "kernelspec": {
   "display_name": "Python3 (PySpark)",
   "language": "python",
   "name": "python3"
  },
  "language_info": {
   "codemirror_mode": {
    "name": "ipython",
    "version": 3
   },
   "file_extension": ".py",
   "mimetype": "text/x-python",
   "name": "python",
   "nbconvert_exporter": "python",
   "pygments_lexer": "ipython3",
   "version": "3.6.7"
  }
 },
 "nbformat": 4,
 "nbformat_minor": 4
}
